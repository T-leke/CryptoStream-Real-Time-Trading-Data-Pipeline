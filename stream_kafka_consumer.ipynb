{
 "cells": [
  {
   "cell_type": "code",
   "execution_count": 3,
   "metadata": {},
   "outputs": [],
   "source": [
    "#import important packages\n",
    "\n",
    "import pandas as pd\n",
    "import numpy as np\n",
    "import binance as bn\n",
    "from binance.client import Client\n",
    "from binance import ThreadedWebsocketManager\n",
    "import json\n",
    "import websocket\n",
    "import psycopg2\n",
    "from datetime import datetime "
   ]
  },
  {
   "cell_type": "code",
   "execution_count": 4,
   "metadata": {},
   "outputs": [],
   "source": [
    "import snowflake.connector"
   ]
  },
  {
   "cell_type": "code",
   "execution_count": 5,
   "metadata": {},
   "outputs": [],
   "source": [
    "# !pip install psycopg2\n",
    "#!pip install snowflake-connector-python"
   ]
  },
  {
   "cell_type": "code",
   "execution_count": 10,
   "metadata": {},
   "outputs": [],
   "source": [
    "symbol = 'btcusdt'\n",
    "socket = f'wss://stream.binance.com:9443/ws/{symbol}@trade'"
   ]
  },
  {
   "cell_type": "code",
   "execution_count": 11,
   "metadata": {},
   "outputs": [],
   "source": [
    "# Function to convert Unix timestamp to datetime\n",
    "def convert_to_datetime(unix_timestamp):\n",
    "    # Assuming the timestamp is in milliseconds, convert to seconds\n",
    "    return datetime.fromtimestamp(unix_timestamp / 1000)"
   ]
  },
  {
   "cell_type": "code",
   "execution_count": null,
   "metadata": {},
   "outputs": [],
   "source": [
    "from kafka import KafkaConsumer\n",
    "\n",
    "#set up database connecton to store the stream data in a table\n",
    "def get_db_connect():\n",
    "    connection = psycopg2.connect(\n",
    "        host = 'localhost',\n",
    "        database = 'cryptostream',\n",
    "        user = 'postgres',\n",
    "        password = 'postgres'\n",
    "    )\n",
    "    return connection\n",
    "\n",
    "conn = get_db_connect()\n",
    "cursor = conn.cursor()\n",
    "\n",
    "\n",
    "\n",
    "\n",
    "# Kafka Consumer setup\n",
    "consumer = KafkaConsumer(\n",
    "    'binance_trades',\n",
    "    bootstrap_servers=['localhost:9092'],\n",
    "    value_deserializer=lambda x: json.loads(x.decode('utf-8'))\n",
    ")\n",
    "\n",
    "print(\"Consumer started. Listening for messages...\")\n",
    "\n",
    "\n",
    "# Function to insert data into PostgreSQL\n",
    "def insert_into_postgres(event_type, event_date, event_time, symbol, price, quantity):\n",
    "    insert_query = \"\"\"\n",
    "        INSERT INTO binance_data (event_type,event_date, event_time, symbol, price, quantity)\n",
    "        VALUES (%s, %s, %s, %s, %s, %s)\n",
    "    \"\"\"\n",
    "    cursor.execute(insert_query, (event_type,event_date, event_time, symbol, price, quantity))\n",
    "    conn.commit()  # Commit the transaction\n",
    "\n",
    "\n",
    "\n",
    "for message in consumer:\n",
    "    # Convert received message to DataFrame row\n",
    "    trade_data = message.value\n",
    "    \n",
    "    event_type = trade_data.get('e')\n",
    "    event_time = trade_data.get('E')\n",
    "    symbol = trade_data.get('s')\n",
    "    price = trade_data.get('p')\n",
    "    quantity = trade_data.get('q')\n",
    "    \n",
    "    # Convert event_time to PostgreSQL compatible datetime\n",
    "    event_datetime = convert_to_datetime(event_time)\n",
    "    event_date = event_datetime.date()\n",
    "    event_time = event_datetime.time()\n",
    "\n",
    "    # Insert the data into the PostgreSQL table\n",
    "    insert_into_postgres(event_type, event_date, event_time, symbol, price, quantity)\n",
    "\n",
    "    \n",
    "    \n",
    "# Close the cursor and connection when done\n",
    "cursor.close()\n",
    "conn.close()\n"
   ]
  }
 ],
 "metadata": {
  "kernelspec": {
   "display_name": "base",
   "language": "python",
   "name": "python3"
  },
  "language_info": {
   "codemirror_mode": {
    "name": "ipython",
    "version": 3
   },
   "file_extension": ".py",
   "mimetype": "text/x-python",
   "name": "python",
   "nbconvert_exporter": "python",
   "pygments_lexer": "ipython3",
   "version": "3.12.3"
  }
 },
 "nbformat": 4,
 "nbformat_minor": 2
}
