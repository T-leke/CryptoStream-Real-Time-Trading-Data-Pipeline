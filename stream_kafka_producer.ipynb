{
 "cells": [
  {
   "cell_type": "code",
   "execution_count": 1,
   "metadata": {},
   "outputs": [],
   "source": [
    "#import important packages\n",
    "\n",
    "import pandas as pd\n",
    "import numpy as np\n",
    "import binance as bn\n",
    "from binance.client import Client\n",
    "from binance import ThreadedWebsocketManager\n",
    "import json\n",
    "import websocket\n"
   ]
  },
  {
   "cell_type": "markdown",
   "metadata": {},
   "source": [
    "#### create socket url"
   ]
  },
  {
   "cell_type": "code",
   "execution_count": 2,
   "metadata": {},
   "outputs": [],
   "source": [
    "symbol = 'btcusdt'\n",
    "socket = f'wss://stream.binance.com:9443/ws/{symbol}@trade'"
   ]
  },
  {
   "cell_type": "markdown",
   "metadata": {},
   "source": [
    "#### Trade Socket"
   ]
  },
  {
   "cell_type": "code",
   "execution_count": 3,
   "metadata": {},
   "outputs": [],
   "source": [
    "# # Create an empty DataFrame globally\n",
    "# df = pd.DataFrame(columns=['Event Type', 'Event Time', 'Symbol', 'Trade ID', 'Price', 'Quantity', 'Trade Time'])\n",
    "\n",
    "# def on_message(ws, message):\n",
    "#     global df  # Access the global DataFrame\n",
    "\n",
    "#     # Convert message to dictionary\n",
    "#     message_dict = json.loads(message)\n",
    "\n",
    "#     # Safely access the expected fields\n",
    "#     event_type = message_dict.get('e')  # Event type\n",
    "#     event_time = message_dict.get('E')  # Event time\n",
    "#     symbol = message_dict.get('s')      # Symbol (e.g., BTCUSD)\n",
    "#     trade_id = message_dict.get('t')    # Trade ID\n",
    "#     price = message_dict.get('p')       # Price\n",
    "#     quantity = message_dict.get('q')    # Quantity\n",
    "#     trade_time = message_dict.get('T')  # Trade time\n",
    "\n",
    "#     # Check if the required fields are present\n",
    "#     if event_type and event_time and symbol and trade_id and price and quantity and trade_time:\n",
    "#         # Create a new row as a dictionary\n",
    "#         new_data = pd.DataFrame([{\n",
    "#             'Event Type': event_type,\n",
    "#             'Event Time': event_time,\n",
    "#             'Symbol': symbol,\n",
    "#             'Trade ID': trade_id,\n",
    "#             'Price': price,\n",
    "#             'Quantity': quantity,\n",
    "#             'Trade Time': trade_time\n",
    "#         }])\n",
    "\n",
    "#         # Append the new data to the global DataFrame\n",
    "#         df = pd.concat([df, new_data], ignore_index=True)\n",
    "\n",
    "#         # Optionally print the entire DataFrame to see all accumulated data\n",
    "#         print(df)\n",
    "\n",
    "\n",
    "# def on_error(ws, error):\n",
    "#     print(error)\n",
    "\n",
    "# def on_close(ws, close_status_code, close_msg):\n",
    "#     print(\"### closed ###\")\n",
    "\n",
    "# def on_open(ws):\n",
    "#     print(\"Opened connection\")\n",
    "\n",
    "# ws = websocket.WebSocketApp(socket,\n",
    "#                             on_open=on_open,\n",
    "#                             on_message=on_message,\n",
    "#                             on_error=on_error,\n",
    "#                             on_close=on_close)"
   ]
  },
  {
   "cell_type": "code",
   "execution_count": 4,
   "metadata": {},
   "outputs": [],
   "source": [
    "# ws.run_forever()"
   ]
  },
  {
   "cell_type": "markdown",
   "metadata": {},
   "source": [
    "### KAFKA PRODUCER"
   ]
  },
  {
   "cell_type": "code",
   "execution_count": 5,
   "metadata": {},
   "outputs": [],
   "source": [
    "#!pip install kafka-python websocket-client\n",
    "#!pip install six\n",
    "#!pip install kafka-python-ng"
   ]
  },
  {
   "cell_type": "code",
   "execution_count": null,
   "metadata": {},
   "outputs": [],
   "source": [
    "import kafka"
   ]
  },
  {
   "cell_type": "code",
   "execution_count": 7,
   "metadata": {},
   "outputs": [],
   "source": [
    "from kafka import KafkaProducer"
   ]
  },
  {
   "cell_type": "code",
   "execution_count": 8,
   "metadata": {},
   "outputs": [],
   "source": [
    "from kafka import KafkaProducer\n",
    "import json\n",
    "\n",
    "producer = KafkaProducer(\n",
    "    bootstrap_servers=['localhost:9092'],  # Ensure this matches the advertised listener\n",
    "    value_serializer=lambda v: json.dumps(v).encode('utf-8')\n",
    ")\n",
    "\n",
    "producer.send('test_topic', {'key': 'value'})\n",
    "producer.flush()\n"
   ]
  },
  {
   "cell_type": "code",
   "execution_count": null,
   "metadata": {},
   "outputs": [],
   "source": [
    "# Kafka Producer setup\n",
    "producer = KafkaProducer(\n",
    "    bootstrap_servers=['localhost:9092'],\n",
    "    value_serializer=lambda v: json.dumps(v).encode('utf-8')\n",
    ")\n",
    "\n",
    "# Binance WebSocket setup\n",
    "def on_message(ws, message):\n",
    "    data = json.loads(message)\n",
    "    print(\"Sending data to Kafka...\")\n",
    "    producer.send('binance_trades', data)  # Sending data to Kafka topic\n",
    "\n",
    "def on_error(ws, error):\n",
    "    print(error)\n",
    "\n",
    "def on_close(ws, close_status_code, close_msg):\n",
    "    print(\"WebSocket closed\")\n",
    "\n",
    "def on_open(ws):\n",
    "    print(\"Opened WebSocket connection\")\n",
    "\n",
    "if __name__ == \"__main__\":\n",
    "    websocket.enableTrace(True)\n",
    "    ws = websocket.WebSocketApp(\"wss://stream.binance.com:9443/ws/btcusdt@trade\",\n",
    "                                on_message=on_message,\n",
    "                                on_error=on_error,\n",
    "                                on_close=on_close,\n",
    "                                on_open=on_open)\n",
    "    ws.run_forever()\n"
   ]
  },
  {
   "cell_type": "code",
   "execution_count": null,
   "metadata": {},
   "outputs": [],
   "source": [
    "# symbol = 'BNBBTC'\n",
    "\n",
    "# twm = ThreadedWebsocketManager()\n",
    "# # start is required to initialise its internal loop\n",
    "# twm.start()\n",
    "\n",
    "# def handle_socket_message(msg):\n",
    "#     print(f\"message type: {msg['e']}\")\n",
    "#     print(msg)\n",
    "\n",
    "#     twm.start_kline_socket(callback=handle_socket_message, symbol=symbol)\n",
    "# depth_stream_name = twm.start_depth_socket(callback=handle_socket_message, symbol=symbol)\n",
    "\n",
    "# # some time later\n",
    "\n",
    "# twm.stop_socket(depth_stream_name)"
   ]
  },
  {
   "cell_type": "code",
   "execution_count": null,
   "metadata": {},
   "outputs": [],
   "source": []
  },
  {
   "cell_type": "code",
   "execution_count": null,
   "metadata": {},
   "outputs": [],
   "source": []
  }
 ],
 "metadata": {
  "kernelspec": {
   "display_name": "base",
   "language": "python",
   "name": "python3"
  },
  "language_info": {
   "codemirror_mode": {
    "name": "ipython",
    "version": 3
   },
   "file_extension": ".py",
   "mimetype": "text/x-python",
   "name": "python",
   "nbconvert_exporter": "python",
   "pygments_lexer": "ipython3",
   "version": "3.12.3"
  }
 },
 "nbformat": 4,
 "nbformat_minor": 2
}
